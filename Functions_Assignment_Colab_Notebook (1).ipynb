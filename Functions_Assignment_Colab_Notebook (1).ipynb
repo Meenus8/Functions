{
  "cells": [
    {
      "cell_type": "markdown",
      "id": "085ff434",
      "metadata": {
        "id": "085ff434"
      },
      "source": [
        "# 📘 Python Assignment: Functions, Iterators, Generators, Lambda"
      ]
    },
    {
      "cell_type": "markdown",
      "id": "ac7fd18f",
      "metadata": {
        "id": "ac7fd18f"
      },
      "source": [
        "### 1. What is the difference between a function and a method in Python?"
      ]
    },
    {
      "cell_type": "markdown",
      "source": [
        "A function is a block of reusable code defined using the def keyword and can exist independently.\n",
        "\n",
        "A method is a function that belongs to an object (usually defined inside a class) and is called using the dot (.) notation.\n",
        "\n",
        "EG.: def add(a, b):  # a, b are parameters\n",
        "    return a + b\n",
        "\n",
        "add(3, 5)  # 3 and 5 are arguments"
      ],
      "metadata": {
        "id": "38t2vc1UuW_P"
      },
      "id": "38t2vc1UuW_P"
    },
    {
      "cell_type": "markdown",
      "id": "80797c22",
      "metadata": {
        "id": "80797c22"
      },
      "source": [
        "### 2. Explain the concept of function arguments and parameters in Python."
      ]
    },
    {
      "cell_type": "markdown",
      "source": [
        "Parameters are variables listed in a function’s definition.\n",
        "\n",
        "Arguments are the values passed to the function when calling it.\n",
        "\n",
        "def add(a, b):  # a, b are parameters\n",
        "    return a + b\n",
        "\n",
        "add(3, 5)  # 3 and 5 are arguments\n"
      ],
      "metadata": {
        "id": "4rmYJcAKuafK"
      },
      "id": "4rmYJcAKuafK"
    },
    {
      "cell_type": "markdown",
      "id": "ab139213",
      "metadata": {
        "id": "ab139213"
      },
      "source": [
        "### 3. What are the different ways to define and call a function in Python?"
      ]
    },
    {
      "cell_type": "markdown",
      "source": [
        "Ways to define:\n",
        "\n",
        "Using def keyword\n",
        "\n",
        "Using lambda (for anonymous functions)\n",
        "\n",
        "Ways to call:\n",
        "\n",
        "Positional arguments\n",
        "\n",
        "Keyword arguments\n",
        "\n",
        "Default arguments\n",
        "\n",
        "Variable-length arguments (*args, **kwargs)\n",
        "\n",
        "Eg: def greet(name=\"User\"):\n",
        "    return f\"Hello, {name}\"\n",
        "\n",
        "greet()                  # uses default\n",
        "greet(\"Cappy\")           # positional\n",
        "greet(name=\"Cappy\")      # keyword\n"
      ],
      "metadata": {
        "id": "gtnXs58QuoVi"
      },
      "id": "gtnXs58QuoVi"
    },
    {
      "cell_type": "markdown",
      "id": "83874ce8",
      "metadata": {
        "id": "83874ce8"
      },
      "source": [
        "### 4. What is the purpose of the `return` statement in a Python function?"
      ]
    },
    {
      "cell_type": "markdown",
      "source": [
        "The return statement ends the function and sends back the result to the caller. If omitted, the function returns None.\n",
        "\n",
        "Example:def square(x):\n",
        "    return x * x\n"
      ],
      "metadata": {
        "id": "bKpNUxORuwDP"
      },
      "id": "bKpNUxORuwDP"
    },
    {
      "cell_type": "markdown",
      "id": "e22029aa",
      "metadata": {
        "id": "e22029aa"
      },
      "source": [
        "### 5. What are iterators in Python and how do they differ from iterables?"
      ]
    },
    {
      "cell_type": "markdown",
      "source": [
        "An iterable is an object that can return an iterator using __iter__() (e.g., list, string).\n",
        "\n",
        "An iterator is an object with __next__() and __iter__() methods and can return elements one at a time.\n",
        "\n",
        "Example:nums = [1, 2, 3]\n",
        "it = iter(nums)      # creates iterator\n",
        "print(next(it))      # outputs 1\n"
      ],
      "metadata": {
        "id": "c7HzIBuzu6JD"
      },
      "id": "c7HzIBuzu6JD"
    },
    {
      "cell_type": "markdown",
      "id": "9046e3c1",
      "metadata": {
        "id": "9046e3c1"
      },
      "source": [
        "### 6. Explain the concept of generators in Python and how they are defined."
      ]
    },
    {
      "cell_type": "markdown",
      "source": [],
      "metadata": {
        "id": "sofR_qmBu5Zg"
      },
      "id": "sofR_qmBu5Zg"
    },
    {
      "cell_type": "markdown",
      "source": [
        "A generator is a function that yields values one at a time using the yield keyword. It pauses execution and resumes from the last yield.\n",
        "\n",
        "Example:def gen_nums():\n",
        "    yield 1\n",
        "    yield 2\n"
      ],
      "metadata": {
        "id": "OvV1NZh7vAMv"
      },
      "id": "OvV1NZh7vAMv"
    },
    {
      "cell_type": "markdown",
      "id": "539e682e",
      "metadata": {
        "id": "539e682e"
      },
      "source": [
        "### 7. What are the advantages of using generators over regular functions?"
      ]
    },
    {
      "cell_type": "markdown",
      "id": "8e96e5cf",
      "metadata": {
        "id": "8e96e5cf"
      },
      "source": [
        "- Memory efficient\n",
        "- Lazy evaluation\n",
        "- Useful for large data"
      ]
    },
    {
      "cell_type": "markdown",
      "id": "46971b30",
      "metadata": {
        "id": "46971b30"
      },
      "source": [
        "### 8. What is a lambda function in Python and when is it typically used?"
      ]
    },
    {
      "cell_type": "markdown",
      "source": [
        "A lambda function is an anonymous, single-line function used for small tasks.\n",
        "\n",
        "Syntax:lambda arguments: expression\n",
        "Eg: square = lambda x: x * x"
      ],
      "metadata": {
        "id": "-x3mAeWWvG0R"
      },
      "id": "-x3mAeWWvG0R"
    },
    {
      "cell_type": "markdown",
      "id": "9985f062",
      "metadata": {
        "id": "9985f062"
      },
      "source": [
        "### 9. Explain the purpose and usage of the `map()` function in Python."
      ]
    },
    {
      "cell_type": "markdown",
      "source": [
        "map() applies a function to all items in an iterable and returns a map object.\n",
        "\n",
        "Example:nums = [1, 2, 3]\n",
        "doubles = list(map(lambda x: x*2, nums))\n"
      ],
      "metadata": {
        "id": "NLkexW3LvKbA"
      },
      "id": "NLkexW3LvKbA"
    },
    {
      "cell_type": "markdown",
      "id": "99d8dfbf",
      "metadata": {
        "id": "99d8dfbf"
      },
      "source": [
        "### 10. Difference between `map()`, `reduce()`, and `filter()`"
      ]
    },
    {
      "cell_type": "markdown",
      "source": [
        "map() – applies a function to each item.\n",
        "\n",
        "filter() – returns items where the function returns True.\n",
        "\n",
        "reduce() – performs a rolling computation (from functools).\n",
        "\n",
        "Example:from functools import reduce\n",
        "\n",
        "nums = [1, 2, 3, 4]\n",
        "print(list(map(lambda x: x*2, nums)))       # [2, 4, 6, 8]\n",
        "print(list(filter(lambda x: x%2==0, nums))) # [2, 4]\n",
        "print(reduce(lambda x, y: x + y, nums))     # 10\n"
      ],
      "metadata": {
        "id": "8Sxm9cc7veZK"
      },
      "id": "8Sxm9cc7veZK"
    },
    {
      "cell_type": "markdown",
      "id": "9ec83208",
      "metadata": {
        "id": "9ec83208"
      },
      "source": [
        "### 11. Reduce mechanism (on paper):\n",
        "- 47 + 11 = 58\n",
        "- 58 + 42 = 100\n",
        "- 100 + 13 = 113\n",
        "Eg: from functools import reduce\n",
        "reduce(lambda x, y: x + y, [47, 11, 42, 13])\n"
      ]
    },
    {
      "cell_type": "markdown",
      "id": "e2fec9db",
      "metadata": {
        "id": "e2fec9db"
      },
      "source": [
        "# 🧪 Practical Questions"
      ]
    },
    {
      "cell_type": "markdown",
      "source": [
        "1. Write a Python function that takes a list of numbers as input and returns the sum of all even numbers in\n",
        "the list."
      ],
      "metadata": {
        "id": "1yIEJXjzvu_v"
      },
      "id": "1yIEJXjzvu_v"
    },
    {
      "cell_type": "code",
      "execution_count": null,
      "id": "d1ed8cac",
      "metadata": {
        "id": "d1ed8cac"
      },
      "outputs": [],
      "source": [
        "def sum_even(numbers):\n",
        "    return sum(num for num in numbers if num % 2 == 0)"
      ]
    },
    {
      "cell_type": "markdown",
      "source": [
        "2. Create a Python function that accepts a string and returns the reverse of that string."
      ],
      "metadata": {
        "id": "Lg9JzlB7vyof"
      },
      "id": "Lg9JzlB7vyof"
    },
    {
      "cell_type": "markdown",
      "source": [],
      "metadata": {
        "id": "EmSmzq9rv8KZ"
      },
      "id": "EmSmzq9rv8KZ"
    },
    {
      "cell_type": "code",
      "execution_count": null,
      "id": "91c85c7a",
      "metadata": {
        "id": "91c85c7a"
      },
      "outputs": [],
      "source": [
        "def reverse_string(s):\n",
        "    return s[::-1]"
      ]
    },
    {
      "cell_type": "markdown",
      "source": [
        "3. Implement a Python function that takes a list of integers and returns a new list containing the squares of\n",
        "each number."
      ],
      "metadata": {
        "id": "aN0a5oA1v_8H"
      },
      "id": "aN0a5oA1v_8H"
    },
    {
      "cell_type": "code",
      "execution_count": null,
      "id": "6af201c8",
      "metadata": {
        "id": "6af201c8"
      },
      "outputs": [],
      "source": [
        "def square_list(lst):\n",
        "    return [x**2 for x in lst]"
      ]
    },
    {
      "cell_type": "markdown",
      "source": [
        "4. Write a Python function that checks if a given number is prime or not from 1 to 200"
      ],
      "metadata": {
        "id": "EiAcLbItwDAJ"
      },
      "id": "EiAcLbItwDAJ"
    },
    {
      "cell_type": "code",
      "execution_count": null,
      "id": "05377da2",
      "metadata": {
        "id": "05377da2"
      },
      "outputs": [],
      "source": [
        "def is_prime(n):\n",
        "    if n < 2:\n",
        "        return False\n",
        "    for i in range(2, int(n**0.5) + 1):\n",
        "        if n % i == 0:\n",
        "            return False\n",
        "    return True\n",
        "\n",
        "primes = [x for x in range(1, 201) if is_prime(x)]"
      ]
    },
    {
      "cell_type": "markdown",
      "source": [
        "5. Create an iterator class in Python that generates the Fibonacci sequence up to a specified number of\n",
        "terms."
      ],
      "metadata": {
        "id": "h59RJspZwFtr"
      },
      "id": "h59RJspZwFtr"
    },
    {
      "cell_type": "code",
      "execution_count": null,
      "id": "6279546d",
      "metadata": {
        "id": "6279546d"
      },
      "outputs": [],
      "source": [
        "class Fibonacci:\n",
        "    def __init__(self, n):\n",
        "        self.n = n\n",
        "        self.a, self.b = 0, 1\n",
        "        self.count = 0\n",
        "\n",
        "    def __iter__(self):\n",
        "        return self\n",
        "\n",
        "    def __next__(self):\n",
        "        if self.count >= self.n:\n",
        "            raise StopIteration\n",
        "        result = self.a\n",
        "        self.a, self.b = self.b, self.a + self.b\n",
        "        self.count += 1\n",
        "        return result"
      ]
    },
    {
      "cell_type": "markdown",
      "source": [
        "6. Write a generator function in Python that yields the powers of 2 up to a given exponent.\n",
        "\n"
      ],
      "metadata": {
        "id": "LpUHDf1QwIkb"
      },
      "id": "LpUHDf1QwIkb"
    },
    {
      "cell_type": "code",
      "execution_count": null,
      "id": "dd8bb3b5",
      "metadata": {
        "id": "dd8bb3b5"
      },
      "outputs": [],
      "source": [
        "def powers_of_two(n):\n",
        "    for i in range(n+1):\n",
        "        yield 2 ** i"
      ]
    },
    {
      "cell_type": "markdown",
      "source": [
        "7. Implement a generator function that reads a file line by line and yields each line as a string."
      ],
      "metadata": {
        "id": "kWQvsKKTwLU4"
      },
      "id": "kWQvsKKTwLU4"
    },
    {
      "cell_type": "code",
      "execution_count": null,
      "id": "d74d5b30",
      "metadata": {
        "id": "d74d5b30"
      },
      "outputs": [],
      "source": [
        "def read_lines(filename):\n",
        "    with open(filename) as file:\n",
        "        for line in file:\n",
        "            yield line.strip()"
      ]
    },
    {
      "cell_type": "markdown",
      "source": [
        "8. Use a lambda function in Python to sort a list of tuples based on the second element of each tuple."
      ],
      "metadata": {
        "id": "Q4EBVMfawNsC"
      },
      "id": "Q4EBVMfawNsC"
    },
    {
      "cell_type": "code",
      "execution_count": null,
      "id": "f8cd5545",
      "metadata": {
        "id": "f8cd5545"
      },
      "outputs": [],
      "source": [
        "tuples = [(\"a\", 3), (\"b\", 1), (\"c\", 2)]\n",
        "sorted_tuples = sorted(tuples, key=lambda x: x[1])"
      ]
    },
    {
      "cell_type": "markdown",
      "source": [
        "9. Write a Python program that uses `map()` to convert a list of temperatures from Celsius to Fahrenheit."
      ],
      "metadata": {
        "id": "aYy6fUaVwPrI"
      },
      "id": "aYy6fUaVwPrI"
    },
    {
      "cell_type": "code",
      "execution_count": null,
      "id": "26754fc8",
      "metadata": {
        "id": "26754fc8"
      },
      "outputs": [],
      "source": [
        "celsius = [0, 20, 30, 40]\n",
        "fahrenheit = list(map(lambda c: (9/5)*c + 32, celsius))"
      ]
    },
    {
      "cell_type": "markdown",
      "source": [
        "10. Create a Python program that uses `filter()` to remove all the vowels from a given string."
      ],
      "metadata": {
        "id": "Lw76YASjwRfL"
      },
      "id": "Lw76YASjwRfL"
    },
    {
      "cell_type": "code",
      "execution_count": null,
      "id": "663df873",
      "metadata": {
        "id": "663df873"
      },
      "outputs": [],
      "source": [
        "def remove_vowels(s):\n",
        "    return ''.join(filter(lambda x: x.lower() not in 'aeiou', s))"
      ]
    },
    {
      "cell_type": "markdown",
      "source": [
        "11) Imagine an accounting routine used in a book shop. It works on a list with sublists, which look like this:\n"
      ],
      "metadata": {
        "id": "CA3Q60FQwTfz"
      },
      "id": "CA3Q60FQwTfz"
    },
    {
      "cell_type": "code",
      "execution_count": null,
      "id": "9097a379",
      "metadata": {
        "id": "9097a379"
      },
      "outputs": [],
      "source": [
        "orders = [\n",
        "    [\"34587\", \"Learning Python\", 4, 40.95],\n",
        "    [\"98762\", \"Programming Python\", 5, 56.80],\n",
        "    [\"77226\", \"Head First Python\", 3, 32.95],\n",
        "    [\"88112\", \"Einführung in Python3\", 3, 24.99]\n",
        "]\n",
        "\n",
        "invoice = list(map(lambda order: (order[0], order[2]*order[3] if order[2]*order[3] >= 100 else order[2]*order[3] + 10), orders))"
      ]
    }
  ],
  "metadata": {
    "colab": {
      "provenance": []
    },
    "language_info": {
      "name": "python"
    },
    "kernelspec": {
      "name": "python3",
      "display_name": "Python 3"
    }
  },
  "nbformat": 4,
  "nbformat_minor": 5
}